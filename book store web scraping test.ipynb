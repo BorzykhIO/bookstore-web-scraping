{
 "cells": [
  {
   "cell_type": "code",
   "execution_count": 1,
   "id": "47b8daa3",
   "metadata": {},
   "outputs": [],
   "source": [
    "from bs4 import BeautifulSoup\n",
    "import pandas as pd\n",
    "import numpy as np\n",
    "import matplotlib.pyplot as plt\n",
    "import requests\n",
    "import re"
   ]
  },
  {
   "cell_type": "code",
   "execution_count": 2,
   "id": "f2253a5e",
   "metadata": {},
   "outputs": [],
   "source": [
    "titles = []\n",
    "prices = []\n",
    "\n",
    "for i in range(1, 50):  #Iterating through all 50 pages \n",
    "    url = f'http://books.toscrape.com/catalogue/page-{i}.html?' #getting page URL for each page\n",
    "    page = requests.get(url).text\n",
    "\n",
    "    doc = BeautifulSoup(page, 'html.parser')\n",
    "\n",
    "    section = doc.section\n",
    "\n",
    "    div = section.contents[3]\n",
    "    ol = div.contents[1]\n",
    "\n",
    "    ol_c = ol.contents\n",
    "    ol_c = ol_c[1:]\n",
    "    ol_c = ol_c[::2]\n",
    "\n",
    "    for lis in ol_c: #getting titles and prices for each product on a page\n",
    "        h3_temp = lis.h3\n",
    "        a_temp = h3_temp.a\n",
    "        titles.append(a_temp.get('title'))\n",
    "        \n",
    "        price = lis.find_all(class_='price_color')\n",
    "        price = price[0]\n",
    "        prices.append(price.string[1:])\n",
    "        "
   ]
  },
  {
   "cell_type": "code",
   "execution_count": 3,
   "id": "9924c551",
   "metadata": {},
   "outputs": [],
   "source": [
    "books = {'book_prices':prices, 'book_titles':titles} #making a dict that contains all book prices and titles"
   ]
  },
  {
   "cell_type": "code",
   "execution_count": 4,
   "id": "f45cbc49",
   "metadata": {},
   "outputs": [],
   "source": [
    "df = pd.DataFrame(books, columns=['book_titles', 'book_prices']) #converting dict to dataframe"
   ]
  },
  {
   "cell_type": "code",
   "execution_count": 5,
   "id": "64e4f19c",
   "metadata": {},
   "outputs": [
    {
     "data": {
      "text/html": [
       "<div>\n",
       "<style scoped>\n",
       "    .dataframe tbody tr th:only-of-type {\n",
       "        vertical-align: middle;\n",
       "    }\n",
       "\n",
       "    .dataframe tbody tr th {\n",
       "        vertical-align: top;\n",
       "    }\n",
       "\n",
       "    .dataframe thead th {\n",
       "        text-align: right;\n",
       "    }\n",
       "</style>\n",
       "<table border=\"1\" class=\"dataframe\">\n",
       "  <thead>\n",
       "    <tr style=\"text-align: right;\">\n",
       "      <th></th>\n",
       "      <th>book_titles</th>\n",
       "      <th>book_prices</th>\n",
       "    </tr>\n",
       "  </thead>\n",
       "  <tbody>\n",
       "    <tr>\n",
       "      <th>0</th>\n",
       "      <td>A Light in the Attic</td>\n",
       "      <td>£51.77</td>\n",
       "    </tr>\n",
       "    <tr>\n",
       "      <th>1</th>\n",
       "      <td>Tipping the Velvet</td>\n",
       "      <td>£53.74</td>\n",
       "    </tr>\n",
       "    <tr>\n",
       "      <th>2</th>\n",
       "      <td>Soumission</td>\n",
       "      <td>£50.10</td>\n",
       "    </tr>\n",
       "    <tr>\n",
       "      <th>3</th>\n",
       "      <td>Sharp Objects</td>\n",
       "      <td>£47.82</td>\n",
       "    </tr>\n",
       "    <tr>\n",
       "      <th>4</th>\n",
       "      <td>Sapiens: A Brief History of Humankind</td>\n",
       "      <td>£54.23</td>\n",
       "    </tr>\n",
       "    <tr>\n",
       "      <th>...</th>\n",
       "      <td>...</td>\n",
       "      <td>...</td>\n",
       "    </tr>\n",
       "    <tr>\n",
       "      <th>975</th>\n",
       "      <td>Icing (Aces Hockey #2)</td>\n",
       "      <td>£40.44</td>\n",
       "    </tr>\n",
       "    <tr>\n",
       "      <th>976</th>\n",
       "      <td>Hawkeye, Vol. 1: My Life as a Weapon (Hawkeye #1)</td>\n",
       "      <td>£45.24</td>\n",
       "    </tr>\n",
       "    <tr>\n",
       "      <th>977</th>\n",
       "      <td>Having the Barbarian's Baby (Ice Planet Barbar...</td>\n",
       "      <td>£34.96</td>\n",
       "    </tr>\n",
       "    <tr>\n",
       "      <th>978</th>\n",
       "      <td>Giant Days, Vol. 1 (Giant Days #1-4)</td>\n",
       "      <td>£56.76</td>\n",
       "    </tr>\n",
       "    <tr>\n",
       "      <th>979</th>\n",
       "      <td>Fruits Basket, Vol. 1 (Fruits Basket #1)</td>\n",
       "      <td>£40.28</td>\n",
       "    </tr>\n",
       "  </tbody>\n",
       "</table>\n",
       "<p>980 rows × 2 columns</p>\n",
       "</div>"
      ],
      "text/plain": [
       "                                           book_titles book_prices\n",
       "0                                 A Light in the Attic      £51.77\n",
       "1                                   Tipping the Velvet      £53.74\n",
       "2                                           Soumission      £50.10\n",
       "3                                        Sharp Objects      £47.82\n",
       "4                Sapiens: A Brief History of Humankind      £54.23\n",
       "..                                                 ...         ...\n",
       "975                             Icing (Aces Hockey #2)      £40.44\n",
       "976  Hawkeye, Vol. 1: My Life as a Weapon (Hawkeye #1)      £45.24\n",
       "977  Having the Barbarian's Baby (Ice Planet Barbar...      £34.96\n",
       "978               Giant Days, Vol. 1 (Giant Days #1-4)      £56.76\n",
       "979           Fruits Basket, Vol. 1 (Fruits Basket #1)      £40.28\n",
       "\n",
       "[980 rows x 2 columns]"
      ]
     },
     "execution_count": 5,
     "metadata": {},
     "output_type": "execute_result"
    }
   ],
   "source": [
    "df"
   ]
  },
  {
   "cell_type": "code",
   "execution_count": null,
   "id": "b0b0e143",
   "metadata": {},
   "outputs": [],
   "source": []
  }
 ],
 "metadata": {
  "kernelspec": {
   "display_name": "Python 3 (ipykernel)",
   "language": "python",
   "name": "python3"
  },
  "language_info": {
   "codemirror_mode": {
    "name": "ipython",
    "version": 3
   },
   "file_extension": ".py",
   "mimetype": "text/x-python",
   "name": "python",
   "nbconvert_exporter": "python",
   "pygments_lexer": "ipython3",
   "version": "3.10.6"
  }
 },
 "nbformat": 4,
 "nbformat_minor": 5
}
